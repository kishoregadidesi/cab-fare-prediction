{
 "cells": [
  {
   "cell_type": "code",
   "execution_count": 1,
   "metadata": {},
   "outputs": [],
   "source": [
    "import os\n",
    "import pandas as pd\n",
    "import matplotlib.pyplot as plt\n",
    "%matplotlib inline\n",
    "import seaborn as sns\n",
    "import numpy as np\n",
    "from ggplot import *"
   ]
  },
  {
   "cell_type": "code",
   "execution_count": 2,
   "metadata": {},
   "outputs": [],
   "source": [
    "os.chdir(\"C:/Users/Kishore\")"
   ]
  },
  {
   "cell_type": "code",
   "execution_count": 3,
   "metadata": {},
   "outputs": [
    {
     "data": {
      "text/plain": [
       "'C:\\\\Users\\\\Kishore'"
      ]
     },
     "execution_count": 3,
     "metadata": {},
     "output_type": "execute_result"
    }
   ],
   "source": [
    "os.getcwd()"
   ]
  },
  {
   "cell_type": "code",
   "execution_count": 4,
   "metadata": {},
   "outputs": [],
   "source": [
    "df= pd.read_csv(\"train_cab.csv\")"
   ]
  },
  {
   "cell_type": "code",
   "execution_count": 5,
   "metadata": {},
   "outputs": [],
   "source": [
    "df['fare_amount'] = pd.to_numeric(df['fare_amount'], errors = 'coerce')"
   ]
  },
  {
   "cell_type": "code",
   "execution_count": 6,
   "metadata": {},
   "outputs": [],
   "source": [
    "df['pickup_datetime']= pd.to_datetime(df['pickup_datetime'], errors= 'coerce')"
   ]
  },
  {
   "cell_type": "code",
   "execution_count": 28,
   "metadata": {},
   "outputs": [
    {
     "data": {
      "text/plain": [
       "<matplotlib.axes._subplots.AxesSubplot at 0x1e83dfd5860>"
      ]
     },
     "execution_count": 28,
     "metadata": {},
     "output_type": "execute_result"
    },
    {
     "data": {
      "image/png": "[encoded data removed]",
      "text/plain": [
       "<Figure size 432x288 with 1 Axes>"
      ]
     },
     "metadata": {
      "needs_background": "light"
     },
     "output_type": "display_data"
    }
   ],
   "source": [
    "sns.countplot(df.fare_amount)"
   ]
  },
  {
   "cell_type": "code",
   "execution_count": 9,
   "metadata": {},
   "outputs": [],
   "source": [
    "#..........................missingvalue analysis...........................#\n"
   ]
  },
  {
   "cell_type": "code",
   "execution_count": 10,
   "metadata": {},
   "outputs": [],
   "source": [
    "missingval= pd.DataFrame(df.isnull().sum())"
   ]
  },
  {
   "cell_type": "code",
   "execution_count": 11,
   "metadata": {},
   "outputs": [],
   "source": [
    "missingval= missingval.reset_index()"
   ]
  },
  {
   "cell_type": "code",
   "execution_count": 12,
   "metadata": {},
   "outputs": [],
   "source": [
    "missingval= missingval.rename(columns={'index': 'name', 0: 'value'})"
   ]
  },
  {
   "cell_type": "code",
   "execution_count": 13,
   "metadata": {},
   "outputs": [],
   "source": [
    "missingval['percent']= (missingval['value']/ len(df))*100"
   ]
  },
  {
   "cell_type": "code",
   "execution_count": 14,
   "metadata": {},
   "outputs": [],
   "source": [
    "missingval= missingval.sort_values('percent', ascending = False).reset_index(drop= True)"
   ]
  },
  {
   "cell_type": "code",
   "execution_count": 26,
   "metadata": {},
   "outputs": [],
   "source": [
    "df['fare_amount']= df['fare_amount'].fillna(df['fare_amount'].median())"
   ]
  },
  {
   "cell_type": "code",
   "execution_count": 8,
   "metadata": {},
   "outputs": [],
   "source": [
    "df['passenger_count']= df['passenger_count'].fillna(df['passenger_count'].median())"
   ]
  },
  {
   "cell_type": "code",
   "execution_count": null,
   "metadata": {},
   "outputs": [],
   "source": [
    "#........................... graphical view of outliers.........................#"
   ]
  },
  {
   "cell_type": "code",
   "execution_count": 21,
   "metadata": {},
   "outputs": [
    {
     "data": {
      "text/plain": [
       "{'whiskers': [<matplotlib.lines.Line2D at 0x20f2a16ebe0>,\n",
       "  <matplotlib.lines.Line2D at 0x20f2a1782e8>],\n",
       " 'caps': [<matplotlib.lines.Line2D at 0x20f2a183668>,\n",
       "  <matplotlib.lines.Line2D at 0x20f2a183278>],\n",
       " 'boxes': [<matplotlib.lines.Line2D at 0x20f2a16e860>],\n",
       " 'medians': [<matplotlib.lines.Line2D at 0x20f2a18de10>],\n",
       " 'fliers': [<matplotlib.lines.Line2D at 0x20f2a198b38>],\n",
       " 'means': []}"
      ]
     },
     "execution_count": 21,
     "metadata": {},
     "output_type": "execute_result"
    },
    {
     "data": {
      "image/png": "[encoded data removed]",
      "text/plain": [
       "<Figure size 432x288 with 1 Axes>"
      ]
     },
     "metadata": {
      "needs_background": "light"
     },
     "output_type": "display_data"
    }
   ],
   "source": [
    "plt.boxplot(df['pickup_latitude'])"
   ]
  },
  {
   "cell_type": "code",
   "execution_count": 22,
   "metadata": {},
   "outputs": [
    {
     "data": {
      "text/plain": [
       "{'whiskers': [<matplotlib.lines.Line2D at 0x20f2a2e8898>,\n",
       "  <matplotlib.lines.Line2D at 0x20f2a2f1c88>],\n",
       " 'caps': [<matplotlib.lines.Line2D at 0x20f2a2fb390>,\n",
       "  <matplotlib.lines.Line2D at 0x20f2a307710>],\n",
       " 'boxes': [<matplotlib.lines.Line2D at 0x20f2a2e81d0>],\n",
       " 'medians': [<matplotlib.lines.Line2D at 0x20f2a3079b0>],\n",
       " 'fliers': [<matplotlib.lines.Line2D at 0x20f2a3124a8>],\n",
       " 'means': []}"
      ]
     },
     "execution_count": 22,
     "metadata": {},
     "output_type": "execute_result"
    },
    {
     "data": {
      "image/png": "[encoded data removed]",
      "text/plain": [
       "<Figure size 432x288 with 1 Axes>"
      ]
     },
     "metadata": {
      "needs_background": "light"
     },
     "output_type": "display_data"
    }
   ],
   "source": [
    "plt.boxplot(df['pickup_longitude'])"
   ]
  },
  {
   "cell_type": "code",
   "execution_count": 23,
   "metadata": {},
   "outputs": [
    {
     "data": {
      "text/plain": [
       "{'whiskers': [<matplotlib.lines.Line2D at 0x20f2a480780>,\n",
       "  <matplotlib.lines.Line2D at 0x20f2a480128>],\n",
       " 'caps': [<matplotlib.lines.Line2D at 0x20f2a48beb8>,\n",
       "  <matplotlib.lines.Line2D at 0x20f2a497128>],\n",
       " 'boxes': [<matplotlib.lines.Line2D at 0x20f2a475d68>],\n",
       " 'medians': [<matplotlib.lines.Line2D at 0x20f2a4a1630>],\n",
       " 'fliers': [<matplotlib.lines.Line2D at 0x20f2a4abcf8>],\n",
       " 'means': []}"
      ]
     },
     "execution_count": 23,
     "metadata": {},
     "output_type": "execute_result"
    },
    {
     "data": {
      "image/png": "[encoded data removed]",
      "text/plain": [
       "<Figure size 432x288 with 1 Axes>"
      ]
     },
     "metadata": {
      "needs_background": "light"
     },
     "output_type": "display_data"
    }
   ],
   "source": [
    "plt.boxplot(df['dropoff_longitude'])"
   ]
  },
  {
   "cell_type": "code",
   "execution_count": 24,
   "metadata": {},
   "outputs": [
    {
     "data": {
      "text/plain": [
       "{'whiskers': [<matplotlib.lines.Line2D at 0x20f2a611470>,\n",
       "  <matplotlib.lines.Line2D at 0x20f2a61b630>],\n",
       " 'caps': [<matplotlib.lines.Line2D at 0x20f2a623cf8>,\n",
       "  <matplotlib.lines.Line2D at 0x20f2a6239b0>],\n",
       " 'boxes': [<matplotlib.lines.Line2D at 0x20f2a611ef0>],\n",
       " 'medians': [<matplotlib.lines.Line2D at 0x20f2a62fcf8>],\n",
       " 'fliers': [<matplotlib.lines.Line2D at 0x20f2a63a198>],\n",
       " 'means': []}"
      ]
     },
     "execution_count": 24,
     "metadata": {},
     "output_type": "execute_result"
    },
    {
     "data": {
      "image/png": "[encoded data removed]",
      "text/plain": [
       "<Figure size 432x288 with 1 Axes>"
      ]
     },
     "metadata": {
      "needs_background": "light"
     },
     "output_type": "display_data"
    }
   ],
   "source": [
    "plt.boxplot(df['dropoff_latitude'])"
   ]
  },
  {
   "cell_type": "code",
   "execution_count": 25,
   "metadata": {},
   "outputs": [
    {
     "data": {
      "text/plain": [
       "{'whiskers': [<matplotlib.lines.Line2D at 0x20f2a794fd0>,\n",
       "  <matplotlib.lines.Line2D at 0x20f2a79da20>],\n",
       " 'caps': [<matplotlib.lines.Line2D at 0x20f2a79dd68>,\n",
       "  <matplotlib.lines.Line2D at 0x20f2a7a8668>],\n",
       " 'boxes': [<matplotlib.lines.Line2D at 0x20f2a78abe0>],\n",
       " 'medians': [<matplotlib.lines.Line2D at 0x20f2a7b43c8>],\n",
       " 'fliers': [<matplotlib.lines.Line2D at 0x20f2a7beef0>],\n",
       " 'means': []}"
      ]
     },
     "execution_count": 25,
     "metadata": {},
     "output_type": "execute_result"
    },
    {
     "data": {
      "image/png": "[encoded data removed]",
      "text/plain": [
       "<Figure size 432x288 with 1 Axes>"
      ]
     },
     "metadata": {
      "needs_background": "light"
     },
     "output_type": "display_data"
    }
   ],
   "source": [
    "plt.boxplot(df['fare_amount'])"
   ]
  },
  {
   "cell_type": "code",
   "execution_count": 26,
   "metadata": {},
   "outputs": [
    {
     "data": {
      "text/plain": [
       "{'whiskers': [<matplotlib.lines.Line2D at 0x20f2a90d5c0>,\n",
       "  <matplotlib.lines.Line2D at 0x20f2a917d68>],\n",
       " 'caps': [<matplotlib.lines.Line2D at 0x20f2a921400>,\n",
       "  <matplotlib.lines.Line2D at 0x20f2a92c4e0>],\n",
       " 'boxes': [<matplotlib.lines.Line2D at 0x20f2a90d5f8>],\n",
       " 'medians': [<matplotlib.lines.Line2D at 0x20f2a938c18>],\n",
       " 'fliers': [<matplotlib.lines.Line2D at 0x20f2a938208>],\n",
       " 'means': []}"
      ]
     },
     "execution_count": 26,
     "metadata": {},
     "output_type": "execute_result"
    },
    {
     "data": {
      "image/png": "[encoded data removed]",
      "text/plain": [
       "<Figure size 432x288 with 1 Axes>"
      ]
     },
     "metadata": {
      "needs_background": "light"
     },
     "output_type": "display_data"
    }
   ],
   "source": [
    "plt.boxplot(df['passenger_count'])"
   ]
  },
  {
   "cell_type": "code",
   "execution_count": null,
   "metadata": {},
   "outputs": [],
   "source": [
    "# ............................removing outliers in the data.........................#"
   ]
  },
  {
   "cell_type": "code",
   "execution_count": 9,
   "metadata": {},
   "outputs": [],
   "source": [
    "df= df.drop(df[df['fare_amount']<2].index)\n",
    "df= df.drop(df[df['fare_amount']>200].index)"
   ]
  },
  {
   "cell_type": "code",
   "execution_count": 10,
   "metadata": {},
   "outputs": [],
   "source": [
    "df= df.drop(df[df['passenger_count']>6].index)"
   ]
  },
  {
   "cell_type": "code",
   "execution_count": 11,
   "metadata": {},
   "outputs": [],
   "source": [
    "df= df.drop(df[df['pickup_longitude']>-1].index)"
   ]
  },
  {
   "cell_type": "code",
   "execution_count": 12,
   "metadata": {},
   "outputs": [],
   "source": [
    "df= df.drop(df[df['pickup_latitude']>45].index)"
   ]
  },
  {
   "cell_type": "code",
   "execution_count": 13,
   "metadata": {},
   "outputs": [],
   "source": [
    "df= df.drop(df[df['dropoff_longitude']>-60].index)"
   ]
  },
  {
   "cell_type": "code",
   "execution_count": 14,
   "metadata": {},
   "outputs": [],
   "source": [
    "df= df.drop(df[df['dropoff_latitude']<1].index)"
   ]
  },
  {
   "cell_type": "code",
   "execution_count": 15,
   "metadata": {},
   "outputs": [],
   "source": [
    "df= df.drop(df[df.index==1327].index)"
   ]
  },
  {
   "cell_type": "code",
   "execution_count": null,
   "metadata": {},
   "outputs": [],
   "source": [
    "#...............boxplot graph after removing outliers................#"
   ]
  },
  {
   "cell_type": "code",
   "execution_count": 16,
   "metadata": {},
   "outputs": [
    {
     "data": {
      "text/plain": [
       "{'whiskers': [<matplotlib.lines.Line2D at 0x22b6058af60>,\n",
       "  <matplotlib.lines.Line2D at 0x22b605752e8>],\n",
       " 'caps': [<matplotlib.lines.Line2D at 0x22b60575630>,\n",
       "  <matplotlib.lines.Line2D at 0x22b60575978>],\n",
       " 'boxes': [<matplotlib.lines.Line2D at 0x22b6058add8>],\n",
       " 'medians': [<matplotlib.lines.Line2D at 0x22b60575cc0>],\n",
       " 'fliers': [<matplotlib.lines.Line2D at 0x22b60567048>],\n",
       " 'means': []}"
      ]
     },
     "execution_count": 16,
     "metadata": {},
     "output_type": "execute_result"
    },
    {
     "data": {
      "image/png": "[encoded data removed]",
      "text/plain": [
       "<Figure size 432x288 with 1 Axes>"
      ]
     },
     "metadata": {
      "needs_background": "light"
     },
     "output_type": "display_data"
    }
   ],
   "source": [
    "plt.boxplot(df.pickup_latitude)"
   ]
  },
  {
   "cell_type": "code",
   "execution_count": 17,
   "metadata": {},
   "outputs": [
    {
     "data": {
      "text/plain": [
       "{'whiskers': [<matplotlib.lines.Line2D at 0x22b604eb198>,\n",
       "  <matplotlib.lines.Line2D at 0x22b604eb4e0>],\n",
       " 'caps': [<matplotlib.lines.Line2D at 0x22b604eb828>,\n",
       "  <matplotlib.lines.Line2D at 0x22b604ebb70>],\n",
       " 'boxes': [<matplotlib.lines.Line2D at 0x22b604eb048>],\n",
       " 'medians': [<matplotlib.lines.Line2D at 0x22b604ebeb8>],\n",
       " 'fliers': [<matplotlib.lines.Line2D at 0x22b6051c240>],\n",
       " 'means': []}"
      ]
     },
     "execution_count": 17,
     "metadata": {},
     "output_type": "execute_result"
    },
    {
     "data": {
      "image/png": "[encoded data removed]",
      "text/plain": [
       "<Figure size 432x288 with 1 Axes>"
      ]
     },
     "metadata": {
      "needs_background": "light"
     },
     "output_type": "display_data"
    }
   ],
   "source": [
    "plt.boxplot(df.pickup_longitude)"
   ]
  },
  {
   "cell_type": "code",
   "execution_count": 18,
   "metadata": {},
   "outputs": [
    {
     "data": {
      "text/plain": [
       "{'whiskers': [<matplotlib.lines.Line2D at 0x22b625eaf60>,\n",
       "  <matplotlib.lines.Line2D at 0x22b625f3320>],\n",
       " 'caps': [<matplotlib.lines.Line2D at 0x22b625f3668>,\n",
       "  <matplotlib.lines.Line2D at 0x22b625f39b0>],\n",
       " 'boxes': [<matplotlib.lines.Line2D at 0x22b625eae10>],\n",
       " 'medians': [<matplotlib.lines.Line2D at 0x22b625f3cf8>],\n",
       " 'fliers': [<matplotlib.lines.Line2D at 0x22b625fe080>],\n",
       " 'means': []}"
      ]
     },
     "execution_count": 18,
     "metadata": {},
     "output_type": "execute_result"
    },
    {
     "data": {
      "image/png": "[encoded data removed]",
      "text/plain": [
       "<Figure size 432x288 with 1 Axes>"
      ]
     },
     "metadata": {
      "needs_background": "light"
     },
     "output_type": "display_data"
    }
   ],
   "source": [
    "plt.boxplot(df.dropoff_longitude)"
   ]
  },
  {
   "cell_type": "code",
   "execution_count": 19,
   "metadata": {},
   "outputs": [
    {
     "data": {
      "text/plain": [
       "{'whiskers': [<matplotlib.lines.Line2D at 0x22b6264be48>,\n",
       "  <matplotlib.lines.Line2D at 0x22b62656208>],\n",
       " 'caps': [<matplotlib.lines.Line2D at 0x22b62656550>,\n",
       "  <matplotlib.lines.Line2D at 0x22b62656898>],\n",
       " 'boxes': [<matplotlib.lines.Line2D at 0x22b6264bcf8>],\n",
       " 'medians': [<matplotlib.lines.Line2D at 0x22b62656be0>],\n",
       " 'fliers': [<matplotlib.lines.Line2D at 0x22b62656f28>],\n",
       " 'means': []}"
      ]
     },
     "execution_count": 19,
     "metadata": {},
     "output_type": "execute_result"
    },
    {
     "data": {
      "image/png": "[encoded data removed]",
      "text/plain": [
       "<Figure size 432x288 with 1 Axes>"
      ]
     },
     "metadata": {
      "needs_background": "light"
     },
     "output_type": "display_data"
    }
   ],
   "source": [
    "plt.boxplot(df.dropoff_latitude)"
   ]
  },
  {
   "cell_type": "code",
   "execution_count": 20,
   "metadata": {},
   "outputs": [
    {
     "data": {
      "text/plain": [
       "{'whiskers': [<matplotlib.lines.Line2D at 0x22b626a8c18>,\n",
       "  <matplotlib.lines.Line2D at 0x22b626a8f98>],\n",
       " 'caps': [<matplotlib.lines.Line2D at 0x22b626b4320>,\n",
       "  <matplotlib.lines.Line2D at 0x22b626b4668>],\n",
       " 'boxes': [<matplotlib.lines.Line2D at 0x22b626a8ac8>],\n",
       " 'medians': [<matplotlib.lines.Line2D at 0x22b626b49b0>],\n",
       " 'fliers': [<matplotlib.lines.Line2D at 0x22b626b4cf8>],\n",
       " 'means': []}"
      ]
     },
     "execution_count": 20,
     "metadata": {},
     "output_type": "execute_result"
    },
    {
     "data": {
      "image/png": "[encoded data removed]",
      "text/plain": [
       "<Figure size 432x288 with 1 Axes>"
      ]
     },
     "metadata": {
      "needs_background": "light"
     },
     "output_type": "display_data"
    }
   ],
   "source": [
    "plt.boxplot(df.fare_amount)"
   ]
  },
  {
   "cell_type": "code",
   "execution_count": 23,
   "metadata": {},
   "outputs": [
    {
     "data": {
      "text/plain": [
       "{'whiskers': [<matplotlib.lines.Line2D at 0x22b628c1cf8>,\n",
       "  <matplotlib.lines.Line2D at 0x22b628cb080>],\n",
       " 'caps': [<matplotlib.lines.Line2D at 0x22b628cb3c8>,\n",
       "  <matplotlib.lines.Line2D at 0x22b628cb710>],\n",
       " 'boxes': [<matplotlib.lines.Line2D at 0x22b628c1ba8>],\n",
       " 'medians': [<matplotlib.lines.Line2D at 0x22b628cba58>],\n",
       " 'fliers': [<matplotlib.lines.Line2D at 0x22b628cbda0>],\n",
       " 'means': []}"
      ]
     },
     "execution_count": 23,
     "metadata": {},
     "output_type": "execute_result"
    },
    {
     "data": {
      "image/png": "[encoded data removed]",
      "text/plain": [
       "<Figure size 432x288 with 1 Axes>"
      ]
     },
     "metadata": {
      "needs_background": "light"
     },
     "output_type": "display_data"
    }
   ],
   "source": [
    "plt.boxplot(df.passenger_count)"
   ]
  },
  {
   "cell_type": "code",
   "execution_count": null,
   "metadata": {},
   "outputs": [],
   "source": [
    "#........................extract the data from datetime variable.........................#"
   ]
  },
  {
   "cell_type": "code",
   "execution_count": 17,
   "metadata": {},
   "outputs": [],
   "source": [
    "df['year']= df['pickup_datetime'].dt.year"
   ]
  },
  {
   "cell_type": "code",
   "execution_count": 18,
   "metadata": {},
   "outputs": [],
   "source": [
    "df['month']= df['pickup_datetime'].dt.month"
   ]
  },
  {
   "cell_type": "code",
   "execution_count": 19,
   "metadata": {},
   "outputs": [],
   "source": [
    "df['day']= df['pickup_datetime'].dt.dayofweek"
   ]
  },
  {
   "cell_type": "code",
   "execution_count": 20,
   "metadata": {},
   "outputs": [],
   "source": [
    "df['hour']= df['pickup_datetime'].dt.hour"
   ]
  },
  {
   "cell_type": "code",
   "execution_count": 29,
   "metadata": {},
   "outputs": [
    {
     "data": {
      "text/plain": [
       "<matplotlib.axes._subplots.AxesSubplot at 0x22b6292b0b8>"
      ]
     },
     "execution_count": 29,
     "metadata": {},
     "output_type": "execute_result"
    },
    {
     "data": {
      "image/png": "[encoded data removed]",
      "text/plain": [
       "<Figure size 432x288 with 1 Axes>"
      ]
     },
     "metadata": {
      "needs_background": "light"
     },
     "output_type": "display_data"
    }
   ],
   "source": [
    "sns.countplot(df.day)"
   ]
  },
  {
   "cell_type": "code",
   "execution_count": 33,
   "metadata": {},
   "outputs": [
    {
     "data": {
      "text/plain": [
       "<matplotlib.axes._subplots.AxesSubplot at 0x22b62b5d748>"
      ]
     },
     "execution_count": 33,
     "metadata": {},
     "output_type": "execute_result"
    },
    {
     "data": {
      "image/png": "[encoded data removed]",
      "text/plain": [
       "<Figure size 432x288 with 1 Axes>"
      ]
     },
     "metadata": {
      "needs_background": "light"
     },
     "output_type": "display_data"
    }
   ],
   "source": [
    "sns.countplot(df.hour)"
   ]
  },
  {
   "cell_type": "code",
   "execution_count": 31,
   "metadata": {},
   "outputs": [
    {
     "data": {
      "image/png": "[encoded data removed]",
      "text/plain": [
       "<Figure size 792x576 with 1 Axes>"
      ]
     },
     "metadata": {},
     "output_type": "display_data"
    },
    {
     "data": {
      "text/plain": [
       "<ggplot: (118292948856)>"
      ]
     },
     "execution_count": 31,
     "metadata": {},
     "output_type": "execute_result"
    }
   ],
   "source": [
    "ggplot(df, aes(x= 'day', y= 'fare_amount',colour= 'month'))+\\\n",
    "geom_point(alpha= 1, size= 50)+theme_bw()"
   ]
  },
  {
   "cell_type": "code",
   "execution_count": null,
   "metadata": {},
   "outputs": [],
   "source": [
    "#................................Feature selection........................................#"
   ]
  },
  {
   "cell_type": "code",
   "execution_count": 32,
   "metadata": {},
   "outputs": [],
   "source": [
    "cnames= ['fare_amount','pickup_longitude','pickup_latitude','dropoff_longitude','dropoff_latitude']"
   ]
  },
  {
   "cell_type": "code",
   "execution_count": 33,
   "metadata": {},
   "outputs": [],
   "source": [
    "df_corr= df.loc[:,cnames]"
   ]
  },
  {
   "cell_type": "code",
   "execution_count": 34,
   "metadata": {},
   "outputs": [
    {
     "data": {
      "text/plain": [
       "<matplotlib.axes._subplots.AxesSubplot at 0x1b8acd733c8>"
      ]
     },
     "execution_count": 34,
     "metadata": {},
     "output_type": "execute_result"
    },
    {
     "data": {
      "image/png": "[encoded data removed]",
      "text/plain": [
       "<Figure size 504x360 with 2 Axes>"
      ]
     },
     "metadata": {
      "needs_background": "light"
     },
     "output_type": "display_data"
    }
   ],
   "source": [
    "f,ax= plt.subplots(figsize=(7,5))\n",
    "corr= df_corr.corr()\n",
    "sns.heatmap(corr,mask=np.zeros_like(corr,dtype= np.bool),cmap= sns.diverging_palette(220,10,as_cmap= True),square= True, ax= ax)"
   ]
  },
  {
   "cell_type": "code",
   "execution_count": null,
   "metadata": {},
   "outputs": [],
   "source": [
    "# Annova test to calculate the relation between categorical variables to target variable"
   ]
  },
  {
   "cell_type": "code",
   "execution_count": 43,
   "metadata": {},
   "outputs": [],
   "source": [
    "cat_name= ['passenger_count','month','year','day','hour','fare_amount']\n",
    "cat_names= df.loc[:,cat_name]"
   ]
  },
  {
   "cell_type": "code",
   "execution_count": 45,
   "metadata": {},
   "outputs": [],
   "source": [
    "import statsmodels.api as sm\n",
    "from statsmodels.formula.api import ols\n",
    "cm=ols('fare_amount ~ passenger_count+month+year+day+hour', data= cat_names).fit()"
   ]
  },
  {
   "cell_type": "code",
   "execution_count": 89,
   "metadata": {},
   "outputs": [
    {
     "name": "stdout",
     "output_type": "stream",
     "text": [
      "                      df        sum_sq       mean_sq           F        PR(>F)\n",
      "passenger_count      1.0  7.261947e+01     72.619466    0.801775  3.705769e-01\n",
      "month                1.0  2.250149e+03   2250.148502   24.843379  6.284491e-07\n",
      "year                 1.0  2.033946e+04  20339.455866  224.563314  2.040390e-50\n",
      "day                  1.0  1.013042e+01     10.130419    0.111848  7.380548e-01\n",
      "hour                 1.0  1.195035e+03   1195.035320   13.194114  2.817248e-04\n",
      "Residual         15694.0  1.421458e+06     90.573369         NaN           NaN\n"
     ]
    }
   ],
   "source": [
    "print(sm.stats.anova_lm(cm, type= 2))"
   ]
  },
  {
   "cell_type": "code",
   "execution_count": 20,
   "metadata": {},
   "outputs": [],
   "source": [
    "# After extracting the data from datetime we can eliminate it and remaining all are important\n",
    "del df['pickup_datetime']"
   ]
  },
  {
   "cell_type": "code",
   "execution_count": null,
   "metadata": {},
   "outputs": [],
   "source": [
    "#...................................machine laerning....................................#"
   ]
  },
  {
   "cell_type": "code",
   "execution_count": 21,
   "metadata": {},
   "outputs": [],
   "source": [
    "from sklearn.model_selection import train_test_split"
   ]
  },
  {
   "cell_type": "code",
   "execution_count": 22,
   "metadata": {},
   "outputs": [],
   "source": [
    "train,validate= train_test_split(df, test_size= 0.2)"
   ]
  },
  {
   "cell_type": "code",
   "execution_count": null,
   "metadata": {},
   "outputs": [],
   "source": [
    "#..............................Linear regression...................................#"
   ]
  },
  {
   "cell_type": "code",
   "execution_count": 23,
   "metadata": {},
   "outputs": [],
   "source": [
    "import statsmodels.api as sm"
   ]
  },
  {
   "cell_type": "code",
   "execution_count": 24,
   "metadata": {},
   "outputs": [],
   "source": [
    "lr= sm.OLS(train.iloc[:,0], train.iloc[:,1:10]).fit()"
   ]
  },
  {
   "cell_type": "code",
   "execution_count": 25,
   "metadata": {},
   "outputs": [
    {
     "data": {
      "text/html": [
       "<table class=\"simpletable\">\n",
       "<caption>OLS Regression Results</caption>\n",
       "<tr>\n",
       "  <th>Dep. Variable:</th>       <td>fare_amount</td>   <th>  R-squared (uncentered):</th>      <td>   0.612</td> \n",
       "</tr>\n",
       "<tr>\n",
       "  <th>Model:</th>                   <td>OLS</td>       <th>  Adj. R-squared (uncentered):</th> <td>   0.611</td> \n",
       "</tr>\n",
       "<tr>\n",
       "  <th>Method:</th>             <td>Least Squares</td>  <th>  F-statistic:       </th>          <td>   2196.</td> \n",
       "</tr>\n",
       "<tr>\n",
       "  <th>Date:</th>             <td>Mon, 28 Oct 2019</td> <th>  Prob (F-statistic):</th>           <td>  0.00</td>  \n",
       "</tr>\n",
       "<tr>\n",
       "  <th>Time:</th>                 <td>16:55:07</td>     <th>  Log-Likelihood:    </th>          <td> -45749.</td> \n",
       "</tr>\n",
       "<tr>\n",
       "  <th>No. Observations:</th>      <td> 12560</td>      <th>  AIC:               </th>          <td>9.152e+04</td>\n",
       "</tr>\n",
       "<tr>\n",
       "  <th>Df Residuals:</th>          <td> 12551</td>      <th>  BIC:               </th>          <td>9.158e+04</td>\n",
       "</tr>\n",
       "<tr>\n",
       "  <th>Df Model:</th>              <td>     9</td>      <th>                     </th>              <td> </td>    \n",
       "</tr>\n",
       "<tr>\n",
       "  <th>Covariance Type:</th>      <td>nonrobust</td>    <th>                     </th>              <td> </td>    \n",
       "</tr>\n",
       "</table>\n",
       "<table class=\"simpletable\">\n",
       "<tr>\n",
       "          <td></td>             <th>coef</th>     <th>std err</th>      <th>t</th>      <th>P>|t|</th>  <th>[0.025</th>    <th>0.975]</th>  \n",
       "</tr>\n",
       "<tr>\n",
       "  <th>pickup_longitude</th>  <td>   28.6854</td> <td>    2.020</td> <td>   14.202</td> <td> 0.000</td> <td>   24.726</td> <td>   32.644</td>\n",
       "</tr>\n",
       "<tr>\n",
       "  <th>pickup_latitude</th>   <td>   -8.7404</td> <td>    2.652</td> <td>   -3.296</td> <td> 0.001</td> <td>  -13.939</td> <td>   -3.542</td>\n",
       "</tr>\n",
       "<tr>\n",
       "  <th>dropoff_longitude</th> <td>    1.9048</td> <td>    2.020</td> <td>    0.943</td> <td> 0.346</td> <td>   -2.055</td> <td>    5.864</td>\n",
       "</tr>\n",
       "<tr>\n",
       "  <th>dropoff_latitude</th>  <td>    0.4265</td> <td>    2.570</td> <td>    0.166</td> <td> 0.868</td> <td>   -4.610</td> <td>    5.463</td>\n",
       "</tr>\n",
       "<tr>\n",
       "  <th>passenger_count</th>   <td>    0.0175</td> <td>    0.066</td> <td>    0.266</td> <td> 0.790</td> <td>   -0.111</td> <td>    0.146</td>\n",
       "</tr>\n",
       "<tr>\n",
       "  <th>year</th>              <td>    1.2986</td> <td>    0.042</td> <td>   31.041</td> <td> 0.000</td> <td>    1.217</td> <td>    1.381</td>\n",
       "</tr>\n",
       "<tr>\n",
       "  <th>month</th>             <td>    0.1758</td> <td>    0.024</td> <td>    7.302</td> <td> 0.000</td> <td>    0.129</td> <td>    0.223</td>\n",
       "</tr>\n",
       "<tr>\n",
       "  <th>day</th>               <td>    0.0356</td> <td>    0.042</td> <td>    0.847</td> <td> 0.397</td> <td>   -0.047</td> <td>    0.118</td>\n",
       "</tr>\n",
       "<tr>\n",
       "  <th>hour</th>              <td>   -0.0456</td> <td>    0.013</td> <td>   -3.562</td> <td> 0.000</td> <td>   -0.071</td> <td>   -0.020</td>\n",
       "</tr>\n",
       "</table>\n",
       "<table class=\"simpletable\">\n",
       "<tr>\n",
       "  <th>Omnibus:</th>       <td>10107.695</td> <th>  Durbin-Watson:     </th>  <td>   2.023</td> \n",
       "</tr>\n",
       "<tr>\n",
       "  <th>Prob(Omnibus):</th>  <td> 0.000</td>   <th>  Jarque-Bera (JB):  </th> <td>427028.291</td>\n",
       "</tr>\n",
       "<tr>\n",
       "  <th>Skew:</th>           <td> 3.560</td>   <th>  Prob(JB):          </th>  <td>    0.00</td> \n",
       "</tr>\n",
       "<tr>\n",
       "  <th>Kurtosis:</th>       <td>30.664</td>   <th>  Cond. No.          </th>  <td>8.35e+04</td> \n",
       "</tr>\n",
       "</table><br/><br/>Warnings:<br/>[1] Standard Errors assume that the covariance matrix of the errors is correctly specified.<br/>[2] The condition number is large, 8.35e+04. This might indicate that there are<br/>strong multicollinearity or other numerical problems."
      ],
      "text/plain": [
       "<class 'statsmodels.iolib.summary.Summary'>\n",
       "\"\"\"\n",
       "                                 OLS Regression Results                                \n",
       "=======================================================================================\n",
       "Dep. Variable:            fare_amount   R-squared (uncentered):                   0.612\n",
       "Model:                            OLS   Adj. R-squared (uncentered):              0.611\n",
       "Method:                 Least Squares   F-statistic:                              2196.\n",
       "Date:                Mon, 28 Oct 2019   Prob (F-statistic):                        0.00\n",
       "Time:                        16:55:07   Log-Likelihood:                         -45749.\n",
       "No. Observations:               12560   AIC:                                  9.152e+04\n",
       "Df Residuals:                   12551   BIC:                                  9.158e+04\n",
       "Df Model:                           9                                                  \n",
       "Covariance Type:            nonrobust                                                  \n",
       "=====================================================================================\n",
       "                        coef    std err          t      P>|t|      [0.025      0.975]\n",
       "-------------------------------------------------------------------------------------\n",
       "pickup_longitude     28.6854      2.020     14.202      0.000      24.726      32.644\n",
       "pickup_latitude      -8.7404      2.652     -3.296      0.001     -13.939      -3.542\n",
       "dropoff_longitude     1.9048      2.020      0.943      0.346      -2.055       5.864\n",
       "dropoff_latitude      0.4265      2.570      0.166      0.868      -4.610       5.463\n",
       "passenger_count       0.0175      0.066      0.266      0.790      -0.111       0.146\n",
       "year                  1.2986      0.042     31.041      0.000       1.217       1.381\n",
       "month                 0.1758      0.024      7.302      0.000       0.129       0.223\n",
       "day                   0.0356      0.042      0.847      0.397      -0.047       0.118\n",
       "hour                 -0.0456      0.013     -3.562      0.000      -0.071      -0.020\n",
       "==============================================================================\n",
       "Omnibus:                    10107.695   Durbin-Watson:                   2.023\n",
       "Prob(Omnibus):                  0.000   Jarque-Bera (JB):           427028.291\n",
       "Skew:                           3.560   Prob(JB):                         0.00\n",
       "Kurtosis:                      30.664   Cond. No.                     8.35e+04\n",
       "==============================================================================\n",
       "\n",
       "Warnings:\n",
       "[1] Standard Errors assume that the covariance matrix of the errors is correctly specified.\n",
       "[2] The condition number is large, 8.35e+04. This might indicate that there are\n",
       "strong multicollinearity or other numerical problems.\n",
       "\"\"\""
      ]
     },
     "execution_count": 25,
     "metadata": {},
     "output_type": "execute_result"
    }
   ],
   "source": [
    "lr.summary()"
   ]
  },
  {
   "cell_type": "code",
   "execution_count": 26,
   "metadata": {},
   "outputs": [],
   "source": [
    "predict_lr= lr.predict(validate.iloc[:,1:10])"
   ]
  },
  {
   "cell_type": "code",
   "execution_count": 27,
   "metadata": {},
   "outputs": [
    {
     "data": {
      "text/plain": [
       "49.94982739067289"
      ]
     },
     "execution_count": 27,
     "metadata": {},
     "output_type": "execute_result"
    }
   ],
   "source": [
    "def mape(y,ypred):\n",
    "    mape= np.mean(np.abs((y-ypred)/ypred)*100)\n",
    "    return mape\n",
    "mape(validate.iloc[:,0],predict_lr)"
   ]
  },
  {
   "cell_type": "code",
   "execution_count": 28,
   "metadata": {},
   "outputs": [
    {
     "data": {
      "text/plain": [
       "9.013563384637052"
      ]
     },
     "execution_count": 28,
     "metadata": {},
     "output_type": "execute_result"
    }
   ],
   "source": [
    "def rmse(y,ypred):\n",
    "    mse= np.mean((y-ypred)**2)\n",
    "    rmse= np.sqrt(mse)\n",
    "    return rmse\n",
    "rmse(validate.iloc[:,0], predict_lr)"
   ]
  },
  {
   "cell_type": "code",
   "execution_count": null,
   "metadata": {},
   "outputs": [],
   "source": [
    "#...................................Decision Tree............................#"
   ]
  },
  {
   "cell_type": "code",
   "execution_count": 29,
   "metadata": {},
   "outputs": [],
   "source": [
    "from sklearn.tree import DecisionTreeRegressor"
   ]
  },
  {
   "cell_type": "code",
   "execution_count": 30,
   "metadata": {},
   "outputs": [],
   "source": [
    "dt= DecisionTreeRegressor(max_depth=2).fit(train.iloc[:,1:10],train.iloc[:,0])"
   ]
  },
  {
   "cell_type": "code",
   "execution_count": 31,
   "metadata": {},
   "outputs": [],
   "source": [
    "predict_dt= dt.predict(validate.iloc[:,1:10])"
   ]
  },
  {
   "cell_type": "code",
   "execution_count": 32,
   "metadata": {},
   "outputs": [
    {
     "data": {
      "text/plain": [
       "40.731514354854745"
      ]
     },
     "execution_count": 32,
     "metadata": {},
     "output_type": "execute_result"
    }
   ],
   "source": [
    "mape(validate.iloc[:,0], predict_dt)"
   ]
  },
  {
   "cell_type": "code",
   "execution_count": 33,
   "metadata": {},
   "outputs": [
    {
     "data": {
      "text/plain": [
       "6.830054966020484"
      ]
     },
     "execution_count": 33,
     "metadata": {},
     "output_type": "execute_result"
    }
   ],
   "source": [
    "rmse(validate.iloc[:,0],predict_dt)"
   ]
  },
  {
   "cell_type": "code",
   "execution_count": null,
   "metadata": {},
   "outputs": [],
   "source": [
    "#..............................random forest.................................#"
   ]
  },
  {
   "cell_type": "code",
   "execution_count": 34,
   "metadata": {},
   "outputs": [],
   "source": [
    "from sklearn.ensemble import RandomForestRegressor"
   ]
  },
  {
   "cell_type": "code",
   "execution_count": 35,
   "metadata": {},
   "outputs": [],
   "source": [
    "rf= RandomForestRegressor(n_estimators= 300).fit(train.iloc[:,1:10],train.iloc[:,0])"
   ]
  },
  {
   "cell_type": "code",
   "execution_count": 36,
   "metadata": {},
   "outputs": [],
   "source": [
    "predict_rf= rf.predict(validate.iloc[:,1:10])"
   ]
  },
  {
   "cell_type": "code",
   "execution_count": 37,
   "metadata": {},
   "outputs": [
    {
     "data": {
      "text/plain": [
       "20.78419779307228"
      ]
     },
     "execution_count": 37,
     "metadata": {},
     "output_type": "execute_result"
    }
   ],
   "source": [
    "def mape(y,ypred):\n",
    "    mape= np.mean(np.abs((y-ypred)/ypred)*100)\n",
    "    return mape\n",
    "mape(validate.iloc[:,0], predict_rf)"
   ]
  },
  {
   "cell_type": "code",
   "execution_count": 38,
   "metadata": {},
   "outputs": [
    {
     "data": {
      "text/plain": [
       "4.812143907956128"
      ]
     },
     "execution_count": 38,
     "metadata": {},
     "output_type": "execute_result"
    }
   ],
   "source": [
    "def rmse(y,ypred):\n",
    "    mse= np.mean((y-ypred)**2)\n",
    "    rmse= np.sqrt(mse)\n",
    "    return rmse\n",
    "rmse(validate.iloc[:,0],predict_rf)"
   ]
  },
  {
   "cell_type": "code",
   "execution_count": 67,
   "metadata": {},
   "outputs": [],
   "source": [
    "#.................................knn...............................#"
   ]
  },
  {
   "cell_type": "code",
   "execution_count": 75,
   "metadata": {},
   "outputs": [],
   "source": [
    "from sklearn.neighbors import KNeighborsRegressor"
   ]
  },
  {
   "cell_type": "code",
   "execution_count": 98,
   "metadata": {},
   "outputs": [],
   "source": [
    "knn_model= KNeighborsRegressor(n_neighbors= 3).fit(train.iloc[:,1:10],train.iloc[:,0])"
   ]
  },
  {
   "cell_type": "code",
   "execution_count": 99,
   "metadata": {},
   "outputs": [],
   "source": [
    "knn_pred= knn_model.predict(validate.iloc[:,1:10])"
   ]
  },
  {
   "cell_type": "code",
   "execution_count": 100,
   "metadata": {},
   "outputs": [
    {
     "data": {
      "text/plain": [
       "91.63492058386412"
      ]
     },
     "execution_count": 100,
     "metadata": {},
     "output_type": "execute_result"
    }
   ],
   "source": [
    "(((knn_pred - validate.iloc[:,0]) ** 2).sum()) / len(knn_pred)"
   ]
  },
  {
   "cell_type": "code",
   "execution_count": null,
   "metadata": {},
   "outputs": [],
   "source": []
  },
  {
   "cell_type": "code",
   "execution_count": null,
   "metadata": {},
   "outputs": [],
   "source": [
    "# predicting fare_amount of test data "
   ]
  },
  {
   "cell_type": "code",
   "execution_count": 47,
   "metadata": {},
   "outputs": [],
   "source": [
    "test= pd.read_csv(\"test.csv\")"
   ]
  },
  {
   "cell_type": "code",
   "execution_count": 49,
   "metadata": {},
   "outputs": [],
   "source": [
    "test[\"pickup_datetime\"]= pd.to_datetime(test[\"pickup_datetime\"], errors= 'coerce')"
   ]
  },
  {
   "cell_type": "code",
   "execution_count": 50,
   "metadata": {},
   "outputs": [],
   "source": [
    "test['year']= test['pickup_datetime'].dt.year"
   ]
  },
  {
   "cell_type": "code",
   "execution_count": 53,
   "metadata": {},
   "outputs": [],
   "source": [
    "test['month']= test['pickup_datetime'].dt.month"
   ]
  },
  {
   "cell_type": "code",
   "execution_count": 54,
   "metadata": {},
   "outputs": [],
   "source": [
    "test['day'] = test['pickup_datetime'].dt.dayofweek"
   ]
  },
  {
   "cell_type": "code",
   "execution_count": 55,
   "metadata": {},
   "outputs": [],
   "source": [
    "test['hour']= test['pickup_datetime'].dt.hour"
   ]
  },
  {
   "cell_type": "code",
   "execution_count": 57,
   "metadata": {},
   "outputs": [],
   "source": [
    "del test['pickup_datetime']"
   ]
  },
  {
   "cell_type": "code",
   "execution_count": 60,
   "metadata": {},
   "outputs": [],
   "source": [
    "newpred_rf= rf.predict(test.iloc[:,0:9]) "
   ]
  },
  {
   "cell_type": "code",
   "execution_count": 62,
   "metadata": {},
   "outputs": [],
   "source": [
    "test_fare= pd.DataFrame(newpred_rf)"
   ]
  },
  {
   "cell_type": "code",
   "execution_count": null,
   "metadata": {},
   "outputs": [],
   "source": []
  }
 ],
 "metadata": {
  "kernelspec": {
   "display_name": "Python 3",
   "language": "python",
   "name": "python3"
  },
  "language_info": {
   "codemirror_mode": {
    "name": "ipython",
    "version": 3
   },
   "file_extension": ".py",
   "mimetype": "text/x-python",
   "name": "python",
   "nbconvert_exporter": "python",
   "pygments_lexer": "ipython3",
   "version": "3.6.8"
  }
 },
 "nbformat": 4,
 "nbformat_minor": 2
}
